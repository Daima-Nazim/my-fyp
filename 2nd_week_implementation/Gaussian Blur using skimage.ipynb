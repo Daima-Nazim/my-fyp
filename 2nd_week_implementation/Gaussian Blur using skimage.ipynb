{
 "cells": [
  {
   "cell_type": "code",
   "execution_count": 7,
   "metadata": {},
   "outputs": [
    {
     "data": {
      "text/plain": [
       "[]"
      ]
     },
     "execution_count": 7,
     "metadata": {},
     "output_type": "execute_result"
    }
   ],
   "source": [
    "import skimage\n",
    "from skimage.viewer import ImageViewer\n",
    "import sys\n",
    "\n",
    "# get filename and kernel size from command line\n",
    "filename = \"cataract_001.png\"\n",
    "sigma = 1\n",
    "# read and display original image\n",
    "image = skimage.io.imread(fname=filename)\n",
    "viewer = ImageViewer(image)\n",
    "viewer.show()\n",
    "# apply Gaussian blur, creating a new image\n",
    "blurred = skimage.filters.gaussian(\n",
    "    image, 1, truncate=3.5, multichannel=True)\n",
    "# display blurred image\n",
    "viewer = ImageViewer(blurred)\n",
    "viewer.show()"
   ]
  }
 ],
 "metadata": {
  "kernelspec": {
   "display_name": "Python 3",
   "language": "python",
   "name": "python3"
  },
  "language_info": {
   "codemirror_mode": {
    "name": "ipython",
    "version": 3
   },
   "file_extension": ".py",
   "mimetype": "text/x-python",
   "name": "python",
   "nbconvert_exporter": "python",
   "pygments_lexer": "ipython3",
   "version": "3.8.5"
  }
 },
 "nbformat": 4,
 "nbformat_minor": 4
}
